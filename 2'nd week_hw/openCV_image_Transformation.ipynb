{
 "cells": [
  {
   "cell_type": "code",
   "execution_count": 1,
   "metadata": {},
   "outputs": [],
   "source": [
    "import cv2\n",
    "import numpy as np\n",
    "import math as m\n",
    "\n",
    "def bilinear_interpolation(img, x, y):\n",
    "    h,w = int(y), int(x)                                            ## 소수점의 위치좌표 x,y를 int형으로 cast하여 소수점 없애기\n",
    "    b = x-w                                                         ## x축에서 x, x+1 좌표간의 거리 비율\n",
    "    a = y-h                                                         ## y축에서 y, y+1 좌표간의 거리 비율\n",
    "    \n",
    "    X1 = np.dot(1-b,img[h,w]) + np.dot(b,img[h,w+1])                ## bilinear interpolation 식 구현\n",
    "    X2 = np.dot(1-b,img[h+1,w]) + np.dot(b,img[h+1,w+1])\n",
    "    X = np.dot(1-a,X1) + np.dot(a,X2)\n",
    "\n",
    "    return X\n",
    "\n",
    "def Transform(img, trans_M) :\n",
    "    \n",
    "    img_r = np.zeros((height,width,3), np.uint8)                    ## 원본과 같은 사이즈의 결과이미지 초기화\n",
    "\n",
    "    for h in range(0, img_r.shape[0]):                              ## 사이즈만큼 픽셀의 위치 변환(Transform)\n",
    "        for w in range(0, img_r.shape[1]):\n",
    "            ## 이미지를 Transform하면 window에서 벗어나는 pixel은 표현할 수 없기 때문에 벗어나는 pixel들은 0으로 값 대입 \n",
    "            x, y = np.dot(trans_M, np.array([w,h,1]))[0:2]\n",
    "            if x >= img.shape[1]-1 or y >= img.shape[0]-1 or x < 0 or y < 0:  \n",
    "                img_r[h,w] = [0,0,0]\n",
    "            ## (640,480)범위 내에 찍히는 것들은 bi-linear로 interpolation한다.\n",
    "            else :\n",
    "                img_r[h,w] = bilinear_interpolation(img, x, y)\n",
    "    \n",
    "    return img_r\n",
    "\n",
    "if __name__ == '__main__': \n",
    "    img = cv2.imread('../picture/mumbai.jpg')\n",
    "    img = cv2.resize(img, (640,480))\n",
    "    \n",
    "    global height, width\n",
    "    height, width = img.shape[0:2]\n",
    "    \n",
    "    th = m.radians(45)                                                                    ## theta 45도 값을 radian으로 설정\n",
    "    m1 = np.array([[1, 0, width/2], [0, 1, height/2], [0,0,1]])                         \n",
    "    m2 = np.array([[1, 0, -width/2], [0, 1, -height/2], [0,0,1]])                   \n",
    "    m3 = np.array([[m.cos(th), -m.sin(th), 0], [m.sin(th), m.cos(th), 0], [0,0,1]]) \n",
    "    \n",
    "    rotation = np.dot(m1, np.dot(m3,m2))                                                 ## Rotation\n",
    "    scaling = np.array([[1/2,0,0], [0,1/2,0], [0,0,1]])                                  ## Scaling (이미지 2배 축소)\n",
    "    translation = np.array([[1,0,160], [0,1,120], [0,0,1]])                              ## Translation\n",
    "    \n",
    "    ## Scaling - Rotation - Translation 순으로 matrix 합성\n",
    "    m_inv = np.linalg.inv(np.dot(translation,(np.dot(scaling,rotation))))\n",
    "    img_r = Transform(img, m_inv)\n",
    "    \n",
    "    cv2.imshow(\"img\", img)\n",
    "    cv2.imshow(\"result\", img_r)\n",
    "    cv2.waitKey(0)\n",
    "    cv2.destroyAllWindows()"
   ]
  },
  {
   "cell_type": "code",
   "execution_count": null,
   "metadata": {},
   "outputs": [],
   "source": [
    "%reset"
   ]
  },
  {
   "cell_type": "code",
   "execution_count": 3,
   "metadata": {},
   "outputs": [],
   "source": [
    "x,y,w = np.dot(m_inv, [0,0,1])"
   ]
  },
  {
   "cell_type": "code",
   "execution_count": null,
   "metadata": {},
   "outputs": [],
   "source": []
  },
  {
   "cell_type": "code",
   "execution_count": 140,
   "metadata": {},
   "outputs": [],
   "source": []
  },
  {
   "cell_type": "code",
   "execution_count": null,
   "metadata": {},
   "outputs": [],
   "source": []
  },
  {
   "cell_type": "code",
   "execution_count": null,
   "metadata": {},
   "outputs": [],
   "source": []
  },
  {
   "cell_type": "code",
   "execution_count": null,
   "metadata": {},
   "outputs": [],
   "source": []
  },
  {
   "cell_type": "code",
   "execution_count": null,
   "metadata": {},
   "outputs": [],
   "source": []
  },
  {
   "cell_type": "code",
   "execution_count": null,
   "metadata": {},
   "outputs": [],
   "source": []
  }
 ],
 "metadata": {
  "kernelspec": {
   "display_name": "Python 3",
   "language": "python",
   "name": "python3"
  },
  "language_info": {
   "codemirror_mode": {
    "name": "ipython",
    "version": 3
   },
   "file_extension": ".py",
   "mimetype": "text/x-python",
   "name": "python",
   "nbconvert_exporter": "python",
   "pygments_lexer": "ipython3",
   "version": "3.6.8"
  }
 },
 "nbformat": 4,
 "nbformat_minor": 2
}
