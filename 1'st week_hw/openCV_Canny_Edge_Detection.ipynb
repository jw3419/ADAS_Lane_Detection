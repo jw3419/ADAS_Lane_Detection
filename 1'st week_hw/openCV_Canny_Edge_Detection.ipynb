{
 "cells": [
  {
   "cell_type": "code",
   "execution_count": 5,
   "metadata": {},
   "outputs": [],
   "source": [
    "import cv2\n",
    "\n",
    "img = cv2.imread(\"../picture/palace.jpg\", cv2.IMREAD_GRAYSCALE)\n",
    "img = cv2.resize(img,(640,480))\n",
    "\n",
    "canny = cv2.Canny(img, 100, 255)     ## Canny Edge Detection 라이브러리 사용 (임계값 100, 255 설정)\n",
    "\n",
    "cv2.imshow('original', img)\n",
    "cv2.imshow(\"canny\", canny)\n",
    "cv2.waitKey(0)\n",
    "cv2.destroyAllWindows()"
   ]
  },
  {
   "cell_type": "code",
   "execution_count": null,
   "metadata": {},
   "outputs": [],
   "source": []
  }
 ],
 "metadata": {
  "kernelspec": {
   "display_name": "Python 3",
   "language": "python",
   "name": "python3"
  },
  "language_info": {
   "codemirror_mode": {
    "name": "ipython",
    "version": 3
   },
   "file_extension": ".py",
   "mimetype": "text/x-python",
   "name": "python",
   "nbconvert_exporter": "python",
   "pygments_lexer": "ipython3",
   "version": "3.6.8"
  }
 },
 "nbformat": 4,
 "nbformat_minor": 2
}
