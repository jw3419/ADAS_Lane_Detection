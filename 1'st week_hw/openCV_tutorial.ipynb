{
 "cells": [
  {
   "cell_type": "code",
   "execution_count": 1,
   "metadata": {},
   "outputs": [],
   "source": [
    "import cv2\n",
    "import numpy as np"
   ]
  },
  {
   "cell_type": "code",
   "execution_count": 2,
   "metadata": {},
   "outputs": [
    {
     "ename": "AttributeError",
     "evalue": "module 'cv2.cv2' has no attribute 'destroyAllWindow'",
     "output_type": "error",
     "traceback": [
      "\u001b[1;31m---------------------------------------------------------------------------\u001b[0m",
      "\u001b[1;31mAttributeError\u001b[0m                            Traceback (most recent call last)",
      "\u001b[1;32m<ipython-input-2-a06a5f49dd04>\u001b[0m in \u001b[0;36m<module>\u001b[1;34m\u001b[0m\n\u001b[0;32m      8\u001b[0m \u001b[0mcv2\u001b[0m\u001b[1;33m.\u001b[0m\u001b[0mimshow\u001b[0m\u001b[1;33m(\u001b[0m\u001b[1;34m'img'\u001b[0m\u001b[1;33m,\u001b[0m \u001b[0mimg\u001b[0m\u001b[1;33m)\u001b[0m                               \u001b[1;31m## 이미지 출력\u001b[0m\u001b[1;33m\u001b[0m\u001b[1;33m\u001b[0m\u001b[0m\n\u001b[0;32m      9\u001b[0m \u001b[0mcv2\u001b[0m\u001b[1;33m.\u001b[0m\u001b[0mwaitKey\u001b[0m\u001b[1;33m(\u001b[0m\u001b[1;36m0\u001b[0m\u001b[1;33m)\u001b[0m                                       \u001b[1;31m## 다음 키 동작까지 몇 초간 기다린다.\u001b[0m\u001b[1;33m\u001b[0m\u001b[1;33m\u001b[0m\u001b[0m\n\u001b[1;32m---> 10\u001b[1;33m \u001b[0mcv2\u001b[0m\u001b[1;33m.\u001b[0m\u001b[0mdestroyAllWindow\u001b[0m\u001b[1;33m(\u001b[0m\u001b[1;33m)\u001b[0m                               \u001b[1;31m## 모든창 닫기\u001b[0m\u001b[1;33m\u001b[0m\u001b[1;33m\u001b[0m\u001b[0m\n\u001b[0m",
      "\u001b[1;31mAttributeError\u001b[0m: module 'cv2.cv2' has no attribute 'destroyAllWindow'"
     ]
    }
   ],
   "source": [
    "## 이미지 입력\n",
    "img = cv2.imread('opencv/picture/WIN_20191203_17_33_21_Pro.jpg', cv2.IMREAD_REDUCED_GRAYSCALE_2)\n",
    "## 이미지 반전\n",
    "img = cv2.flip(img, 0)\n",
    "\n",
    "cv2.namedWindow('img', flags = cv2.WINDOW_FREERATIO) ## 윈도우 창 이름설정 및 크기 변경 혹은 변경 불가능하게 하는 기능\n",
    "cv2.resizeWindow('img', 400, 200)                    ## 윈도우 크기 재지정\n",
    "cv2.imshow('img', img)                               ## 이미지 출력\n",
    "cv2.waitKey(0)                                       ## 다음 키 동작까지 몇 ms 기다린다.\n",
    "cv2.destroyAllWindow()                               ## 모든창 닫기"
   ]
  },
  {
   "cell_type": "code",
   "execution_count": 76,
   "metadata": {},
   "outputs": [],
   "source": [
    "capture = cv2.VideoCapture('opencv/video/kitchen.mp4')\n",
    "\n",
    "while True :\n",
    "    ret, frame = capture.read()\n",
    "    \n",
    "    if(capture.get(cv2.CAP_PROP_POS_FRAMES) == capture.get(cv2.CAP_PROP_FRAME_COUNT)) :\n",
    "        capture.open('opencv/video/kitchen.mp4')\n",
    "        \n",
    "    cv2.imshow('VideoFrame', frame)\n",
    "    if cv2.waitKey(1) == 27 :\n",
    "        break\n",
    "\n",
    "capture.release()\n",
    "cv2.destroyAllWindows()"
   ]
  },
  {
   "cell_type": "code",
   "execution_count": 49,
   "metadata": {},
   "outputs": [
    {
     "data": {
      "text/plain": [
       "5"
      ]
     },
     "execution_count": 49,
     "metadata": {},
     "output_type": "execute_result"
    }
   ],
   "source": [
    "## FPS 알아보는 방법\n",
    "cv2.CAP_PROP_FPS"
   ]
  },
  {
   "cell_type": "code",
   "execution_count": 82,
   "metadata": {},
   "outputs": [
    {
     "ename": "TypeError",
     "evalue": "integer argument expected, got float",
     "output_type": "error",
     "traceback": [
      "\u001b[1;31m---------------------------------------------------------------------------\u001b[0m",
      "\u001b[1;31mTypeError\u001b[0m                                 Traceback (most recent call last)",
      "\u001b[1;32m<ipython-input-82-40af10213f33>\u001b[0m in \u001b[0;36m<module>\u001b[1;34m\u001b[0m\n\u001b[0;32m      8\u001b[0m         \u001b[0mcv2\u001b[0m\u001b[1;33m.\u001b[0m\u001b[0mimshow\u001b[0m\u001b[1;33m(\u001b[0m\u001b[1;34m'Video'\u001b[0m\u001b[1;33m,\u001b[0m \u001b[0mframe\u001b[0m\u001b[1;33m)\u001b[0m\u001b[1;33m\u001b[0m\u001b[1;33m\u001b[0m\u001b[0m\n\u001b[0;32m      9\u001b[0m \u001b[1;33m\u001b[0m\u001b[0m\n\u001b[1;32m---> 10\u001b[1;33m     \u001b[1;32mif\u001b[0m \u001b[0mcv2\u001b[0m\u001b[1;33m.\u001b[0m\u001b[0mwaitKey\u001b[0m\u001b[1;33m(\u001b[0m\u001b[1;36m0.1\u001b[0m\u001b[1;33m)\u001b[0m \u001b[1;33m==\u001b[0m \u001b[1;36m27\u001b[0m\u001b[1;33m:\u001b[0m           \u001b[1;31m## ESC 버튼 누르면 영상 종료\u001b[0m\u001b[1;33m\u001b[0m\u001b[1;33m\u001b[0m\u001b[0m\n\u001b[0m\u001b[0;32m     11\u001b[0m         \u001b[1;32mbreak\u001b[0m\u001b[1;33m\u001b[0m\u001b[1;33m\u001b[0m\u001b[0m\n\u001b[0;32m     12\u001b[0m \u001b[1;33m\u001b[0m\u001b[0m\n",
      "\u001b[1;31mTypeError\u001b[0m: integer argument expected, got float"
     ]
    }
   ],
   "source": [
    "## 영상 Frame에 대한 정보만 저장\n",
    "cap = cv2.VideoCapture('opencv/video/kitchen.mp4')\n",
    "while True:\n",
    "    ret, frame = cap.read()             ## 영상일 잘 읽어왔는지 ret에 저장하고, Frame으로 동영상 입력\n",
    "    frame = cv2.flip(frame,0)           ## 영상 반전\n",
    "    \n",
    "    if ret == True :                   ## 영상을 잘 받아왔으면 영상 출력 (while문으로 반복시켜 frame 총 수대로 출력)\n",
    "        cv2.imshow('Video', frame)\n",
    "    \n",
    "    if cv2.waitKey(10) == 27:           ## ESC 버튼 누르면 영상 종료\n",
    "        break\n",
    "\n",
    "cap.release()                            ## 영상을 저장해 놓은 메모리 해제\n",
    "cv2.destroyAllWindows()"
   ]
  },
  {
   "cell_type": "code",
   "execution_count": null,
   "metadata": {},
   "outputs": [],
   "source": []
  },
  {
   "cell_type": "code",
   "execution_count": 25,
   "metadata": {},
   "outputs": [],
   "source": [
    "## 웹캠에 대한 정보 저장\n",
    "capture = cv2.VideoCapture(0)\n",
    "\n",
    "## 동영상파일을 불러오면 Frame 설정값을 바꾸지 못하지만 웹캠인 경우에는 set()함수를 통해 Frame값을 변경할 수 있다. \n",
    "capture.set(cv2.CAP_PROP_FRAME_WIDTH, 1920)\n",
    "capture.set(cv2.CAP_PROP_FRAME_HEIGHT, 1080)\n",
    "\n",
    "while True:\n",
    "    ret, frame = capture.read()\n",
    "    frame = cv2.flip(frame,0)\n",
    "    \n",
    "    if ret == True :\n",
    "        cv2.imshow('image', frame)\n",
    "    \n",
    "    if cv2.waitKey(20) == 27:\n",
    "        break\n",
    "\n",
    "capture.release()\n",
    "cv2.destroyAllWindows()"
   ]
  },
  {
   "cell_type": "code",
   "execution_count": 2,
   "metadata": {},
   "outputs": [],
   "source": [
    "cap = cv2.VideoCapture(\"opencv/video/kitchen.mp4\")           ## Frame에 대한 정보를 cap에 저장\n",
    "cap.set(cv2.CAP_PROP_POS_AVI_RATIO, 1)                       ## Frame기준점을 끝으로 설정 (0:시작 , 1:끝)\n",
    "number_of_frames = cap.get(cv2.CAP_PROP_POS_FRAMES)          ## 현재 Frame 수를 얻는다.\n",
    "\n",
    "while number_of_frames > 0:                                 ## 현재 Frame 수만큼 반복한다. (기준점이 끝이기 때문에 Frame의 총수와 같음)\n",
    "    cap.set(cv2.CAP_PROP_POS_FRAMES, number_of_frames);      ## 현재 Frame을 frame의 총 수로 설정 (후에 1씩 감소하면서 역방향으로 재생) \n",
    "    \n",
    "    ret, frame = cap.read()                                  ## Frame 반환 유무, Frame을 각각 변수에 대입\n",
    "    if ret == True :                                        ## Frame을 가져왔다면 Frame 출력\n",
    "        cv2.imshow(\"window\", frame);\n",
    "    \n",
    "    if cv2.waitKey(1) == 27 :                                ## ESC 누르면 종료 (너무느려서 FPS설정을 해야함.)\n",
    "        break\n",
    "    \n",
    "    number_of_frames = number_of_frames-1                    ## 역방향으로 재생하기 위해서 Frame의 총 수를 1씩 감소\n",
    "    \n",
    "cap.release()                                                ## 할당받은 메모리 해제\n",
    "cv2.destroyAllWindows()"
   ]
  },
  {
   "cell_type": "code",
   "execution_count": null,
   "metadata": {},
   "outputs": [],
   "source": []
  },
  {
   "cell_type": "code",
   "execution_count": null,
   "metadata": {},
   "outputs": [],
   "source": []
  },
  {
   "cell_type": "code",
   "execution_count": null,
   "metadata": {},
   "outputs": [],
   "source": []
  },
  {
   "cell_type": "code",
   "execution_count": null,
   "metadata": {
    "scrolled": true
   },
   "outputs": [],
   "source": []
  },
  {
   "cell_type": "code",
   "execution_count": null,
   "metadata": {},
   "outputs": [],
   "source": []
  },
  {
   "cell_type": "code",
   "execution_count": null,
   "metadata": {},
   "outputs": [],
   "source": []
  },
  {
   "cell_type": "code",
   "execution_count": null,
   "metadata": {},
   "outputs": [],
   "source": []
  },
  {
   "cell_type": "code",
   "execution_count": null,
   "metadata": {},
   "outputs": [],
   "source": []
  },
  {
   "cell_type": "code",
   "execution_count": null,
   "metadata": {},
   "outputs": [],
   "source": []
  },
  {
   "cell_type": "code",
   "execution_count": null,
   "metadata": {},
   "outputs": [],
   "source": []
  },
  {
   "cell_type": "code",
   "execution_count": null,
   "metadata": {},
   "outputs": [],
   "source": []
  },
  {
   "cell_type": "code",
   "execution_count": null,
   "metadata": {},
   "outputs": [],
   "source": []
  },
  {
   "cell_type": "code",
   "execution_count": null,
   "metadata": {},
   "outputs": [],
   "source": []
  },
  {
   "cell_type": "code",
   "execution_count": null,
   "metadata": {},
   "outputs": [],
   "source": []
  },
  {
   "cell_type": "code",
   "execution_count": null,
   "metadata": {},
   "outputs": [],
   "source": []
  },
  {
   "cell_type": "code",
   "execution_count": null,
   "metadata": {},
   "outputs": [],
   "source": []
  },
  {
   "cell_type": "code",
   "execution_count": null,
   "metadata": {},
   "outputs": [],
   "source": []
  },
  {
   "cell_type": "code",
   "execution_count": null,
   "metadata": {},
   "outputs": [],
   "source": []
  }
 ],
 "metadata": {
  "kernelspec": {
   "display_name": "Python 3",
   "language": "python",
   "name": "python3"
  },
  "language_info": {
   "codemirror_mode": {
    "name": "ipython",
    "version": 3
   },
   "file_extension": ".py",
   "mimetype": "text/x-python",
   "name": "python",
   "nbconvert_exporter": "python",
   "pygments_lexer": "ipython3",
   "version": "3.6.8"
  }
 },
 "nbformat": 4,
 "nbformat_minor": 2
}
