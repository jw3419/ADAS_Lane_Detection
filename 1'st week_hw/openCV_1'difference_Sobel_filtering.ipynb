{
 "cells": [
  {
   "cell_type": "code",
   "execution_count": 24,
   "metadata": {},
   "outputs": [],
   "source": [
    "import cv2\n",
    "import numpy as np\n",
    "\n",
    "def Gaussian(var) :\n",
    "    v = var\n",
    "    sigma, mu = 1.0, 0.0\n",
    "    gauss = np.exp(-( var**2 / ( 2.0 * sigma**2 ) ) ) / (np.sqrt(2*np.pi)*sigma)\n",
    "    gauss = gauss / np.sum(gauss)\n",
    "    \n",
    "    return np.array(gauss)\n",
    "\n",
    "def filtering(img, ft):\n",
    "    height = img.shape[0] \n",
    "    width = img.shape[1]  \n",
    "    row = height - ft.shape[0] + 1 \n",
    "    col = width - ft.shape[1] + 1  \n",
    "    result = np.zeros((height, width), np.uint8)\n",
    "    \n",
    "    for r in range(0, row) :\n",
    "        for c in range(0, col):\n",
    "            total = np.sum(img[r:r+ft.shape[0], c:c+ft.shape[1]] * ft)\n",
    "            result[r+1,c+1] = total\n",
    "    \n",
    "    return result\n",
    "    \n",
    "    \n",
    "img = cv2.imread(\"../picture/mumbai.jpg\", cv2.IMREAD_GRAYSCALE)\n",
    "img = cv2.resize(img,(640,480))\n",
    "\n",
    "\n",
    "x = Gaussian(np.linspace(-0.1,0.1,3))                                        ## 1x3 Gaussian array 생성 (x방향)\n",
    "y = x.reshape(3,1)                                                           ## 3x1 Gaussian array 생성 (y방향)\n",
    "diff_x = np.array([-1,0,1])                                                  ## 1st difference array 생성 (x방향)\n",
    "diff_y = diff_x.reshape(3,1)                                                 ## 1st difference array 생성 (y방향)\n",
    "sobel_x = y * diff_x                                                         ## mx sobel filter 생성\n",
    "sobel_y = x * diff_y                                                         ## my sobel filter 생성\n",
    "\n",
    "img_sobel_x = np.array(filtering(img, sobel_x), np.uint8)                    ## mx Convolution 이미지 생성\n",
    "img_sobel_y = np.array(filtering(img, sobel_y), np.uint8)                    ## my Convolution 이미지 생성\n",
    "\n",
    "img_sobel = cv2.addWeighted(img_sobel_x, 1, img_sobel_y, 1, 0)               ## mx, my 병합\n",
    "\n",
    "cv2.imshow('original', img)\n",
    "cv2.imshow('result', img_sobel)\n",
    "\n",
    "cv2.waitKey(0)\n",
    "cv2.destroyAllWindows()"
   ]
  },
  {
   "cell_type": "code",
   "execution_count": 27,
   "metadata": {},
   "outputs": [],
   "source": [
    "import cv2 \n",
    "import numpy as np \n",
    "\n",
    "img = cv2.imread(\"../picture/palace.jpg\", cv2.IMREAD_GRAYSCALE) \n",
    "img = cv2.resize(img,(640,480))\n",
    "img_sobel_x = cv2.Sobel(img, cv2.CV_64F, 1, 0, ksize=3) \n",
    "img_sobel_x = cv2.convertScaleAbs(img_sobel_x) \n",
    "img_sobel_y = cv2.Sobel(img, cv2.CV_64F, 0, 1, ksize=3) \n",
    "img_sobel_y = cv2.convertScaleAbs(img_sobel_y) \n",
    "img_sobel = cv2.addWeighted(img_sobel_x, 1, img_sobel_y, 1, 0)\n",
    "\n",
    "cv2.imshow(\"sobel_x\", img_sobel_x) \n",
    "cv2.imshow(\"sobel_y\", img_sobel_y) \n",
    "cv2.imshow(\"sobel\", img_sobel) \n",
    "cv2.waitKey(0) \n",
    "cv2.destroyAllWindows()\n"
   ]
  },
  {
   "cell_type": "code",
   "execution_count": 11,
   "metadata": {},
   "outputs": [
    {
     "ename": "error",
     "evalue": "OpenCV(4.2.0) C:\\projects\\opencv-python\\opencv\\modules\\imgproc\\src\\resize.cpp:4045: error: (-215:Assertion failed) !ssize.empty() in function 'cv::resize'\n",
     "output_type": "error",
     "traceback": [
      "\u001b[1;31m---------------------------------------------------------------------------\u001b[0m",
      "\u001b[1;31merror\u001b[0m                                     Traceback (most recent call last)",
      "\u001b[1;32m<ipython-input-11-05b925df17af>\u001b[0m in \u001b[0;36m<module>\u001b[1;34m\u001b[0m\n\u001b[1;32m----> 1\u001b[1;33m \u001b[0mcv2\u001b[0m\u001b[1;33m.\u001b[0m\u001b[0mresize\u001b[0m\u001b[1;33m(\u001b[0m\u001b[0mimg\u001b[0m\u001b[1;33m,\u001b[0m \u001b[1;33m(\u001b[0m\u001b[1;36m480\u001b[0m\u001b[1;33m,\u001b[0m\u001b[1;36m640\u001b[0m\u001b[1;33m)\u001b[0m\u001b[1;33m)\u001b[0m\u001b[1;33m\u001b[0m\u001b[1;33m\u001b[0m\u001b[0m\n\u001b[0m",
      "\u001b[1;31merror\u001b[0m: OpenCV(4.2.0) C:\\projects\\opencv-python\\opencv\\modules\\imgproc\\src\\resize.cpp:4045: error: (-215:Assertion failed) !ssize.empty() in function 'cv::resize'\n"
     ]
    }
   ],
   "source": [
    "cv2.resize(img, (480,640))"
   ]
  },
  {
   "cell_type": "code",
   "execution_count": null,
   "metadata": {},
   "outputs": [],
   "source": []
  },
  {
   "cell_type": "code",
   "execution_count": null,
   "metadata": {},
   "outputs": [],
   "source": []
  },
  {
   "cell_type": "code",
   "execution_count": null,
   "metadata": {},
   "outputs": [],
   "source": []
  },
  {
   "cell_type": "code",
   "execution_count": null,
   "metadata": {},
   "outputs": [],
   "source": []
  }
 ],
 "metadata": {
  "kernelspec": {
   "display_name": "Python 3",
   "language": "python",
   "name": "python3"
  },
  "language_info": {
   "codemirror_mode": {
    "name": "ipython",
    "version": 3
   },
   "file_extension": ".py",
   "mimetype": "text/x-python",
   "name": "python",
   "nbconvert_exporter": "python",
   "pygments_lexer": "ipython3",
   "version": "3.6.8"
  }
 },
 "nbformat": 4,
 "nbformat_minor": 2
}
