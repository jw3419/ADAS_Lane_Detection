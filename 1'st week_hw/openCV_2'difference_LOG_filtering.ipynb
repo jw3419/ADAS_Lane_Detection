{
 "cells": [
  {
   "cell_type": "code",
   "execution_count": 3,
   "metadata": {},
   "outputs": [],
   "source": [
    "import cv2\n",
    "import numpy as np\n",
    "\n",
    "def filtering(img, filt):\n",
    "    height = img.shape[0] \n",
    "    width = img.shape[1]  \n",
    "    row = height - filt.shape[0] + 1 \n",
    "    col = width - filt.shape[1] + 1  \n",
    "    result = np.zeros((height, width), np.uint8)\n",
    "    \n",
    "    for r in range(0, row) :\n",
    "        for c in range(0, col):\n",
    "            total = np.sum(img[r:r+filt.shape[0], c:c+filt.shape[1]] * filt)\n",
    "            result[r+1,c+1] = total\n",
    "    \n",
    "    return result\n",
    "\n",
    "def zero_crossing(img):\n",
    "    h = img.shape[0]                          ## LoG filter 취한 이미지의 행과 열의 개수\n",
    "    w = img.shape[1]\n",
    "    thres = np.absolute(img).mean() * 0.75    ## threshold 값은 전체 pixel 절대갑의 평균 * 0.75\n",
    "    output = np.zeros([h,w])                  ## binary를 찍을 output\n",
    "    \n",
    "    for y in range(1, h - 1):             \n",
    "        for x in range(1, w - 1):\n",
    "            patch = img[y-1:y+2, x-1:x+2]     ## 3x3 pixel (영교차를 검출하기 위해서 설정)\n",
    "            p = img[y, x]                     ## 중심 pixel\n",
    "            maxP = patch.max()                ## 3x3 pixel의 최대값\n",
    "            minP = patch.min()                ## 3x3 pixel의 최소값\n",
    "            \n",
    "            if (p > 0):                                     ## 중심 pixel이 밝은데  주변 pixel이 어둡거나\n",
    "                zeroCross = True if minP < 0 else False   ##  중심 pixel이 어두운데, 주변 pixel이 밝으면\n",
    "            else:                                           ## 영교차가 있다고 간주\n",
    "                zeroCross = True if maxP > 0 else False\n",
    "            if ((maxP - minP) > thres) and zeroCross:       ## 3x3 pixel의 최대값과 최소값의 차가 threshold를 넘으면 Edge 추출\n",
    "                output[y, x] = 1\n",
    "    return output\n",
    "\n",
    "\n",
    "img = cv2.imread(\"opencv/picture/newyork.jpg\", cv2.IMREAD_GRAYSCALE)                 ## 이미지 그레이스케일 변환\n",
    "img = cv2.resize(img,(640,480))                                                      ## 이미지 해상도 변경\n",
    "          \n",
    "x, y = np.meshgrid(np.linspace(-300,300,3), np.linspace(-300,300,3))                 ## 600개 sampling, 3x3행렬 생성\n",
    "d = np.sqrt(x*x+y*y)\n",
    "sigma, mu = 15.0, 0.0                                         ## 표준편차 값이 커질수록 명암대비 밝은 곳에 Edge가 선명해진다.\n",
    "g_filter = np.exp(-( (d-mu)**2 / ( 2.0 * (sigma**2) ) ) ) / np.sqrt(2*np.pi)*sigma  ## Gaussian Filter 생성\n",
    "g_filter = g_filter / np.sum(g_filter)\n",
    "\n",
    "log_filter = ((y**2 + x**2 - 2*(sigma**2)) / (sigma**4)) * g_filter                 ## LoG Filter 생성\n",
    "\n",
    "img_log = np.array(filtering(img, log_filter))                                        ## Convolution 수행\n",
    "\n",
    "result = zero_crossing(img_log)                                                       ## 영교차 탐색\n",
    "\n",
    "cv2.imshow('original', img)\n",
    "cv2.imshow('result', result)\n",
    "\n",
    "cv2.waitKey(0)\n",
    "cv2.destroyAllWindows()"
   ]
  },
  {
   "cell_type": "code",
   "execution_count": 212,
   "metadata": {},
   "outputs": [
    {
     "data": {
      "text/plain": [
       "False"
      ]
     },
     "execution_count": 212,
     "metadata": {},
     "output_type": "execute_result"
    }
   ],
   "source": [
    "if(p > 0):      ## 0쪽으로 갈 수록 어둡고 255로 갈 수록 밝다. p>0이냐는건 3x3행렬의 중앙이 밝은 pixel인지 물어보는듯.\n",
    "    if minP<0:  ## 근처 8개 pixel중에 0보다 작은값이 있는 놈은 어둡다\n",
    "        zeroCross = True  ## 따라서 밝은 pixel p의 주변에 0보다 작은 값이 있다는것은 어두운값에서 밝은 값으로 확 변하는 영교차가 있다는 뜻일거임.\n",
    "    else:                 ## 그게 아니라면 영교차는 존재하지 않는다.\n",
    "        zeroCross = False"
   ]
  },
  {
   "cell_type": "code",
   "execution_count": null,
   "metadata": {},
   "outputs": [],
   "source": []
  },
  {
   "cell_type": "code",
   "execution_count": null,
   "metadata": {},
   "outputs": [],
   "source": []
  },
  {
   "cell_type": "code",
   "execution_count": null,
   "metadata": {},
   "outputs": [],
   "source": []
  },
  {
   "cell_type": "code",
   "execution_count": null,
   "metadata": {},
   "outputs": [],
   "source": []
  },
  {
   "cell_type": "code",
   "execution_count": null,
   "metadata": {},
   "outputs": [],
   "source": []
  },
  {
   "cell_type": "code",
   "execution_count": null,
   "metadata": {},
   "outputs": [],
   "source": []
  }
 ],
 "metadata": {
  "kernelspec": {
   "display_name": "Python 3",
   "language": "python",
   "name": "python3"
  },
  "language_info": {
   "codemirror_mode": {
    "name": "ipython",
    "version": 3
   },
   "file_extension": ".py",
   "mimetype": "text/x-python",
   "name": "python",
   "nbconvert_exporter": "python",
   "pygments_lexer": "ipython3",
   "version": "3.6.8"
  }
 },
 "nbformat": 4,
 "nbformat_minor": 2
}
