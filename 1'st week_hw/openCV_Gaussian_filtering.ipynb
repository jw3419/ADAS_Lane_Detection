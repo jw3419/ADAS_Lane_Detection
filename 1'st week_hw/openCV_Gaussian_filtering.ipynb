{
 "cells": [
  {
   "cell_type": "code",
   "execution_count": 9,
   "metadata": {},
   "outputs": [],
   "source": [
    "import cv2\n",
    "import numpy as np\n",
    "\n",
    "def Gaussian(img, ft) :\n",
    "    height = img.shape[0]                                       ## 이미지 높이(행의 개수)\n",
    "    width = img.shape[1]                                        ## 이미지 너비(열의 개수)\n",
    "    result = np.zeros((height, width, 3), np.uint8)             ## 출력할 이미지 초기화\n",
    "    \n",
    "    row = height - ft.shape[0]+1                                ## filtering 반복구간 설정\n",
    "    col = width - ft.shape[1]+1\n",
    "\n",
    "    for r in range(0, row) :                                    ## Convolution\n",
    "        for c in range(0, col):                                 ## 3x3 matrix 각각의 b,g,r 값과 filter의 값을 곱하고 더하여\n",
    "            blue,green,red = 0.0, 0.0, 0.0                      ## 다시 array로 구성 후, 출력 이미지에 대입\n",
    "            for i in range(0, ft.shape[0]):\n",
    "                for j in range(0, ft.shape[1]):\n",
    "                    blue += img[r+i,c+j,0] * ft[i,j]               \n",
    "                    green += img[r+i,c+j,1] * ft[i,j]\n",
    "                    red += img[r+i,c+j,2] * ft[i,j]\n",
    "            bgr = [blue, green, red]\n",
    "            result[r+2,c+2] = np.array(bgr)                     \n",
    "            \n",
    "    return result\n",
    "\n",
    "img = cv2.imread('../picture/cats.jpg')\n",
    "img = cv2.resize(img,(640,480))\n",
    "\n",
    "## Gaussian Filter 생성\n",
    "x, y = np.meshgrid(np.linspace(-1,1,5), np.linspace(-1,1,5))                             ## -1부터 1까지 5개의 수 규칙적으로 추출\n",
    "d = np.sqrt(x*x+y*y)                                                                     ## 2D Gaussian 식 적용\n",
    "sigma, mu = 5.0, 0.0\n",
    "g_filter = np.exp(-( (d-mu)**2 / ( 2.0 * sigma**2 ) ) ) / (np.sqrt(2*np.pi)*sigma)\n",
    "g_filter = g_filter / np.sum(g_filter)                                                   ## sum이 1로 normalization\n",
    "\n",
    "result = Gaussian(img, g_filter)\n",
    "\n",
    "cv2.imshow('original', img)\n",
    "cv2.imshow('blur', result)\n",
    "\n",
    "cv2.waitKey(0)\n",
    "cv2.destroyAllWindows()"
   ]
  },
  {
   "cell_type": "code",
   "execution_count": 5,
   "metadata": {
    "scrolled": true
   },
   "outputs": [],
   "source": [
    "import cv2\n",
    "\n",
    "img = cv2.imread('../picture/cats.jpg')\n",
    "img = cv2.resize(img,(640,480))\n",
    "\n",
    "cv2.imshow('Original', img)\n",
    "for i in range(0, 100, 10) :\n",
    "    blur = cv2.GaussianBlur(img,(5,5),i)\n",
    "    cv2.imshow('Result'+str(i)+'', blur)\n",
    "\n",
    "cv2.waitKey(0)\n",
    "cv2.destroyAllWindows()"
   ]
  },
  {
   "cell_type": "code",
   "execution_count": 6,
   "metadata": {},
   "outputs": [
    {
     "data": {
      "text/plain": [
       "array([[0.03991118, 0.03997775, 0.03999997, 0.03997775, 0.03991118],\n",
       "       [0.03997775, 0.04004443, 0.04006669, 0.04004443, 0.03997775],\n",
       "       [0.03999997, 0.04006669, 0.04008895, 0.04006669, 0.03999997],\n",
       "       [0.03997775, 0.04004443, 0.04006669, 0.04004443, 0.03997775],\n",
       "       [0.03991118, 0.03997775, 0.03999997, 0.03997775, 0.03991118]])"
      ]
     },
     "execution_count": 6,
     "metadata": {},
     "output_type": "execute_result"
    }
   ],
   "source": [
    "g_filter"
   ]
  },
  {
   "cell_type": "code",
   "execution_count": null,
   "metadata": {},
   "outputs": [],
   "source": []
  },
  {
   "cell_type": "code",
   "execution_count": null,
   "metadata": {},
   "outputs": [],
   "source": []
  },
  {
   "cell_type": "code",
   "execution_count": null,
   "metadata": {},
   "outputs": [],
   "source": []
  },
  {
   "cell_type": "code",
   "execution_count": null,
   "metadata": {},
   "outputs": [],
   "source": []
  },
  {
   "cell_type": "code",
   "execution_count": null,
   "metadata": {},
   "outputs": [],
   "source": []
  },
  {
   "cell_type": "code",
   "execution_count": null,
   "metadata": {},
   "outputs": [],
   "source": []
  },
  {
   "cell_type": "code",
   "execution_count": null,
   "metadata": {},
   "outputs": [],
   "source": []
  },
  {
   "cell_type": "code",
   "execution_count": null,
   "metadata": {},
   "outputs": [],
   "source": []
  },
  {
   "cell_type": "code",
   "execution_count": null,
   "metadata": {},
   "outputs": [],
   "source": []
  },
  {
   "cell_type": "code",
   "execution_count": null,
   "metadata": {},
   "outputs": [],
   "source": []
  }
 ],
 "metadata": {
  "kernelspec": {
   "display_name": "Python 3",
   "language": "python",
   "name": "python3"
  },
  "language_info": {
   "codemirror_mode": {
    "name": "ipython",
    "version": 3
   },
   "file_extension": ".py",
   "mimetype": "text/x-python",
   "name": "python",
   "nbconvert_exporter": "python",
   "pygments_lexer": "ipython3",
   "version": "3.6.8"
  }
 },
 "nbformat": 4,
 "nbformat_minor": 2
}
