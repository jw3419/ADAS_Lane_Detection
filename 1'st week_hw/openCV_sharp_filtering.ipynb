{
 "cells": [
  {
   "cell_type": "code",
   "execution_count": 22,
   "metadata": {
    "scrolled": false
   },
   "outputs": [],
   "source": [
    "import cv2\n",
    "import numpy as np\n",
    "\n",
    "def filtering(img, ft):\n",
    "    height = img.shape[0]\n",
    "    width = img.shape[1]  \n",
    "    row = height - ft.shape[0] + 1 \n",
    "    col = width - ft.shape[1] + 1  \n",
    "\n",
    "    for r in range(0, row) :  \n",
    "        for c in range(0, col):\n",
    "            red,green,blue = 0.0, 0.0, 0.0\n",
    "            for i in range(0, ft.shape[0]):\n",
    "                for j in range(0, ft.shape[1]):\n",
    "                    red += img[r+i,c+j,0] * ft[i,j]\n",
    "                    green += img[r+i,c+j,1] * ft[i,j]\n",
    "                    blue += img[r+i,c+j,2] * ft[i,j]\n",
    "            rgb = [red, green, blue]\n",
    "            result[r+1,c+1] = np.array(rgb)\n",
    "    \n",
    "    return result\n",
    "\n",
    "## 필터 생성하고, 필터링 함수로 convolution 진행\n",
    "img = cv2.imread('opencv/picture/lib.jpg')\n",
    "img = cv2.resize(img,(640,480))\n",
    "\n",
    "sharp_filter = np.array([ [[1,  1, 1], [1, -7, 1], [1,  1, 1]] ,\n",
    "                          [[0, -1, 0], [-1, 5,-1], [0, -1, 0]] ], np.float32)\n",
    "\n",
    "result1 = np.array(filtering(img, sharp_filter[0]), np.uint8)\n",
    "result2 = np.array(filtering(img, sharp_filter[1]), np.uint8)\n",
    "\n",
    "cv2.imshow('original', img)\n",
    "cv2.imshow('sharp1', result1)\n",
    "cv2.imshow('sharp2', result2)\n",
    "\n",
    "cv2.waitKey(0)\n",
    "cv2.destroyAllWindows()"
   ]
  },
  {
   "cell_type": "code",
   "execution_count": 25,
   "metadata": {},
   "outputs": [],
   "source": [
    "import cv2\n",
    "import numpy as np\n",
    "\n",
    "img = cv2.imread('opencv/picture/lib.jpg')\n",
    "img = cv2.resize(img,(640,480))\n",
    "\n",
    "sharp_filter1 = np.array([[-1,-1,-1], [-1,9,-1], [-1,-1,-1]])                          \n",
    "sharp_filter2 = np.array([[1,1,1], [1,-7,1], [1,1,1]]) \n",
    "sharp_filter3 = np.array([[-1,-1,-1,-1,-1], \n",
    "                         [-1, 2, 2, 2, -1],\n",
    "                         [-1, 2, 8, 2, -1],\n",
    "                         [-1, 2, 2, 2, -1],\n",
    "                         [-1,-1,-1,-1,-1]]) / 8.0\n",
    "\n",
    "result1 = cv2.filter2D(img, -1, sharp_filter1)\n",
    "result2 = cv2.filter2D(img, -1, sharp_filter2)\n",
    "result3 = cv2.filter2D(img, -1, sharp_filter3)\n",
    "\n",
    "cv2.imshow('original', img)\n",
    "cv2.imshow('sharp1', result1)\n",
    "cv2.imshow('sharp2', result2)\n",
    "cv2.imshow('sharp3', result3)\n",
    "\n",
    "cv2.waitKey(0)\n",
    "cv2.destroyAllWindows()"
   ]
  },
  {
   "cell_type": "code",
   "execution_count": null,
   "metadata": {},
   "outputs": [],
   "source": []
  },
  {
   "cell_type": "code",
   "execution_count": null,
   "metadata": {},
   "outputs": [],
   "source": []
  }
 ],
 "metadata": {
  "kernelspec": {
   "display_name": "Python 3",
   "language": "python",
   "name": "python3"
  },
  "language_info": {
   "codemirror_mode": {
    "name": "ipython",
    "version": 3
   },
   "file_extension": ".py",
   "mimetype": "text/x-python",
   "name": "python",
   "nbconvert_exporter": "python",
   "pygments_lexer": "ipython3",
   "version": "3.6.8"
  }
 },
 "nbformat": 4,
 "nbformat_minor": 2
}
