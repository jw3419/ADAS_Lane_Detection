{
 "cells": [
  {
   "cell_type": "code",
   "execution_count": 8,
   "metadata": {},
   "outputs": [],
   "source": [
    "import cv2\n",
    "import numpy as np\n",
    "\n",
    "img = cv2.imread('opencv/picture/lib.jpg')                   ## 이미지 입력 (상대경로 입력)\n",
    "img = cv2.resize(img,(640,480))                              ## 이미지 해상도 변경\n",
    "\n",
    "height = img.shape[0]                                        ## 이미지 높이(행의 개수)\n",
    "width = img.shape[1]                                         ## 이미지 너비(열의 개수)\n",
    "\n",
    "result = np.zeros((height, width, 3), np.uint8)              ## Output 이미지 초기화\n",
    "box = np.ones((3,3), np.float32) / 9                         ## Box Filter 생성\n",
    "\n",
    "row = height-box.shape[0]+1                                  ## Filtering 작업 반복구간 설정\n",
    "col = width-box.shape[1]+1\n",
    "\n",
    "for r in range(0, row) :                                     ## Filtering 구현 \n",
    "    for c in range(0, col):                                  ## 2차원 array vector 연산 후 b,g,r 리스트 생성\n",
    "        rgb = np.sum(np.sum(img[r:r+box.shape[0], c:c+box.shape[1]] * box, axis=1), axis=0)\n",
    "        result[r+1,c+1] = rgb                                ## Output 이미지에 연산한 bgr 리스트 대입\n",
    "\n",
    "\n",
    "cv2.imshow('original', img)\n",
    "cv2.imshow('blur', result)\n",
    "\n",
    "cv2.waitKey(0)\n",
    "cv2.destroyAllWindows()"
   ]
  },
  {
   "cell_type": "code",
   "execution_count": 2,
   "metadata": {},
   "outputs": [],
   "source": [
    "import cv2\n",
    "import numpy as np\n",
    "\n",
    "img = cv2.imread('../picture/lib.jpg')\n",
    "img = cv2.resize(img,(640,480))\n",
    "\n",
    "box = np.ones((3,3), np.float32) / 9\n",
    "result = cv2.filter2D(img, -1,  box)\n",
    "\n",
    "cv2.imshow('origin', img)\n",
    "cv2.imshow('blur', result)\n",
    "\n",
    "cv2.waitKey(0)\n",
    "cv2.destroyAllWindows()"
   ]
  },
  {
   "cell_type": "code",
   "execution_count": 3,
   "metadata": {},
   "outputs": [],
   "source": [
    "import cv2\n",
    "import numpy as np\n",
    "\n",
    "img = cv2.imread('../picture/lib.jpg')\n",
    "img = cv2.resize(img,(640,480))\n",
    "\n",
    "box = np.array([-1,0,1])\n",
    "result = cv2.filter2D(img, -1,  box)\n",
    "\n",
    "cv2.imshow('origin', img)\n",
    "cv2.imshow('blur', result)\n",
    "\n",
    "cv2.waitKey(0)\n",
    "cv2.destroyAllWindows()"
   ]
  },
  {
   "cell_type": "code",
   "execution_count": null,
   "metadata": {},
   "outputs": [],
   "source": []
  },
  {
   "cell_type": "code",
   "execution_count": null,
   "metadata": {},
   "outputs": [],
   "source": []
  }
 ],
 "metadata": {
  "kernelspec": {
   "display_name": "Python 3",
   "language": "python",
   "name": "python3"
  },
  "language_info": {
   "codemirror_mode": {
    "name": "ipython",
    "version": 3
   },
   "file_extension": ".py",
   "mimetype": "text/x-python",
   "name": "python",
   "nbconvert_exporter": "python",
   "pygments_lexer": "ipython3",
   "version": "3.6.8"
  }
 },
 "nbformat": 4,
 "nbformat_minor": 2
}
