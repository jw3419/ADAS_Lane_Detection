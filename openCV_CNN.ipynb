{
 "cells": [
  {
   "cell_type": "code",
   "execution_count": 56,
   "metadata": {},
   "outputs": [
    {
     "name": "stdout",
     "output_type": "stream",
     "text": [
      "Train on 60000 samples, validate on 10000 samples\n",
      "Epoch 1/15\n",
      "60000/60000 [==============================] - 86s 1ms/step - loss: 0.1670 - accuracy: 0.9482 - val_loss: 0.0417 - val_accuracy: 0.9862\n",
      "Epoch 2/15\n",
      "60000/60000 [==============================] - 83s 1ms/step - loss: 0.0559 - accuracy: 0.9827 - val_loss: 0.0326 - val_accuracy: 0.9884\n",
      "Epoch 3/15\n",
      "60000/60000 [==============================] - 83s 1ms/step - loss: 0.0400 - accuracy: 0.9879 - val_loss: 0.0326 - val_accuracy: 0.9888\n",
      "Epoch 4/15\n",
      "60000/60000 [==============================] - 82s 1ms/step - loss: 0.0331 - accuracy: 0.9897 - val_loss: 0.0250 - val_accuracy: 0.9925\n",
      "Epoch 5/15\n",
      "60000/60000 [==============================] - 82s 1ms/step - loss: 0.0270 - accuracy: 0.9911 - val_loss: 0.0262 - val_accuracy: 0.9916\n",
      "Epoch 6/15\n",
      "60000/60000 [==============================] - 83s 1ms/step - loss: 0.0209 - accuracy: 0.9930 - val_loss: 0.0281 - val_accuracy: 0.9909\n",
      "Epoch 7/15\n",
      "60000/60000 [==============================] - 83s 1ms/step - loss: 0.0199 - accuracy: 0.9937 - val_loss: 0.0220 - val_accuracy: 0.9924\n",
      "Epoch 8/15\n",
      "60000/60000 [==============================] - 81s 1ms/step - loss: 0.0170 - accuracy: 0.9944 - val_loss: 0.0236 - val_accuracy: 0.9934\n",
      "Epoch 9/15\n",
      "60000/60000 [==============================] - 81s 1ms/step - loss: 0.0161 - accuracy: 0.9950 - val_loss: 0.0231 - val_accuracy: 0.9935\n",
      "Epoch 10/15\n",
      "60000/60000 [==============================] - 82s 1ms/step - loss: 0.0146 - accuracy: 0.9951 - val_loss: 0.0236 - val_accuracy: 0.9927\n",
      "Epoch 11/15\n",
      "60000/60000 [==============================] - 81s 1ms/step - loss: 0.0116 - accuracy: 0.9959 - val_loss: 0.0235 - val_accuracy: 0.9938\n",
      "Epoch 12/15\n",
      "60000/60000 [==============================] - 81s 1ms/step - loss: 0.0116 - accuracy: 0.9961 - val_loss: 0.0287 - val_accuracy: 0.9925\n",
      "Epoch 13/15\n",
      "60000/60000 [==============================] - 81s 1ms/step - loss: 0.0110 - accuracy: 0.9964 - val_loss: 0.0268 - val_accuracy: 0.9931\n",
      "Epoch 14/15\n",
      "60000/60000 [==============================] - 83s 1ms/step - loss: 0.0104 - accuracy: 0.9968 - val_loss: 0.0234 - val_accuracy: 0.9931\n",
      "Epoch 15/15\n",
      "60000/60000 [==============================] - 81s 1ms/step - loss: 0.0087 - accuracy: 0.9975 - val_loss: 0.0277 - val_accuracy: 0.9929\n"
     ]
    }
   ],
   "source": [
    "import keras\n",
    "from sklearn.datasets import fetch_openml\n",
    "from keras.models import Sequential\n",
    "from keras.layers import Dense\n",
    "from keras.layers import Dropout\n",
    "from keras.layers import Flatten\n",
    "from keras.layers.convolutional import Convolution2D as Conv2D\n",
    "from keras.layers.convolutional import MaxPooling2D\n",
    "\n",
    "mnist = fetch_openml('mnist_784')\n",
    "x_train  = mnist.data[0:60000] \n",
    "y_train = mnist.target[0:60000]\n",
    "x_test = mnist.data[60000:]\n",
    "y_test = mnist.target[60000:]\n",
    "\n",
    "x_train = x_train.reshape(x_train.shape[0], 28, 28,1)\n",
    "x_test = x_test.reshape(x_test.shape[0], 28, 28,1)\n",
    "\n",
    "x_train = x_train.astype('float32') / 255.\n",
    "x_test = x_test.astype('float32') / 255.\n",
    "\n",
    "y_train = keras.utils.to_categorical(y_train, 10)\n",
    "y_test = keras.utils.to_categorical(y_test, 10)\n",
    "\n",
    "############### 학습 시작 ##################\n",
    "model = Sequential()\n",
    "model.add(Conv2D(filters=32,\n",
    "                 kernel_size=(5, 5),\n",
    "                 strides=(1, 1),\n",
    "                 padding='same',\n",
    "                 activation='relu',\n",
    "                 input_shape=(28, 28,1)))\n",
    "model.add(MaxPooling2D(pool_size=(2, 2),\n",
    "                       strides=(2, 2)))\n",
    "model.add(Conv2D(filters=64,\n",
    "                 kernel_size=(3, 3),\n",
    "                 strides=(1, 1),\n",
    "                 activation='relu',\n",
    "                 padding='same'))\n",
    "model.add(MaxPooling2D(pool_size=(2, 2),\n",
    "                       strides=(2, 2)))\n",
    "model.add(Dropout(0.3))\n",
    "model.add(Flatten())\n",
    "model.add(Dense(units=500,\n",
    "                activation='relu'))\n",
    "model.add(Dropout(0.3))\n",
    "model.add(Dense(units=10,\n",
    "                activation='softmax'))\n",
    "\n",
    "model.compile(loss='categorical_crossentropy',\n",
    "              optimizer='adam',\n",
    "              metrics=['accuracy'])\n",
    "\n",
    "history = model.fit(x=x_train,\n",
    "                    y=y_train,\n",
    "                    batch_size=100,\n",
    "                    epochs=15,\n",
    "                    verbose=1,\n",
    "                    validation_data=(x_test, y_test))\n",
    "\n",
    "score = model.evaluate(x_test, y_test, verbose=0)"
   ]
  },
  {
   "cell_type": "code",
   "execution_count": 66,
   "metadata": {},
   "outputs": [
    {
     "data": {
      "text/plain": [
       "[0.027718471723922083, 0.992900013923645]"
      ]
     },
     "execution_count": 66,
     "metadata": {},
     "output_type": "execute_result"
    }
   ],
   "source": [
    "score"
   ]
  },
  {
   "cell_type": "code",
   "execution_count": 67,
   "metadata": {},
   "outputs": [
    {
     "name": "stdout",
     "output_type": "stream",
     "text": [
      "accuracy : 99.290000 %\n",
      "predict: [1.9370813e-15 3.0767145e-13 1.0744161e-15 6.8360907e-12 1.7204104e-18\n",
      " 2.8637694e-16 8.2941610e-21 1.0000000e+00 1.3362095e-15 2.3118479e-11]\n"
     ]
    }
   ],
   "source": [
    "predict = model.predict(x_test)\n",
    "correct = 0\n",
    "for i in range(len(predict)) :\n",
    "    p = predict[i].tolist()\n",
    "    y = y_test[i].tolist()\n",
    "    if y.index(max(y)) ==  p.index(max(p)):\n",
    "        correct += 1\n",
    "\n",
    "accuracy = (correct / len(predict)) * 100\n",
    "print(\"accuracy : %lf %%\" % accuracy)\n",
    "print(\"predict: %s\" % predict[0])\n",
    "\n",
    "cv2.imshow(\"target image\", mnist.data[60000].reshape(28,28))\n",
    "cv2.waitKey(0)\n",
    "cv2.destroyAllWindows()"
   ]
  },
  {
   "cell_type": "code",
   "execution_count": 60,
   "metadata": {},
   "outputs": [],
   "source": [
    "import pandas as pd\n",
    "import numpy as np\n",
    "import cv2\n",
    "\n",
    "cv2.imshow('iomg', mnist.data[60001].reshape(28,28))\n",
    "cv2.waitKey(0)\n",
    "cv2.destroyAllWindows()"
   ]
  },
  {
   "cell_type": "code",
   "execution_count": null,
   "metadata": {},
   "outputs": [],
   "source": []
  },
  {
   "cell_type": "code",
   "execution_count": null,
   "metadata": {},
   "outputs": [],
   "source": []
  },
  {
   "cell_type": "code",
   "execution_count": null,
   "metadata": {},
   "outputs": [],
   "source": []
  },
  {
   "cell_type": "code",
   "execution_count": 1,
   "metadata": {},
   "outputs": [
    {
     "name": "stderr",
     "output_type": "stream",
     "text": [
      "Using TensorFlow backend.\n"
     ]
    }
   ],
   "source": [
    "import keras\n",
    "from sklearn.datasets import fetch_openml\n",
    "from keras.models import Sequential\n",
    "from keras.layers import Dense\n",
    "from keras.layers import Dropout\n",
    "from keras.layers import Flatten\n",
    "from keras.layers.convolutional import Convolution2D as Conv2D\n",
    "from keras.layers.convolutional import MaxPooling2D\n",
    "\n",
    "mnist = fetch_openml('mnist_784')\n",
    "x_train  = mnist.data[0:60000] \n",
    "y_train = mnist.target[0:60000]\n",
    "x_test = mnist.data[60000:]\n",
    "y_test = mnist.target[60000:]\n",
    "\n",
    "x_train = x_train.reshape(x_train.shape[0], 28, 28,1)\n",
    "x_test = x_test.reshape(x_test.shape[0], 28, 28,1)\n",
    "\n",
    "x_train = x_train.astype('float32') / 255.\n",
    "x_test = x_test.astype('float32') / 255.\n",
    "\n",
    "y_train = keras.utils.to_categorical(y_train, 10)\n",
    "y_test = keras.utils.to_categorical(y_test, 10)\n"
   ]
  },
  {
   "cell_type": "code",
   "execution_count": 19,
   "metadata": {
    "scrolled": true
   },
   "outputs": [
    {
     "data": {
      "text/plain": [
       "(60000, 784)"
      ]
     },
     "execution_count": 19,
     "metadata": {},
     "output_type": "execute_result"
    }
   ],
   "source": [
    "x_train  = mnist.data[0:60000] \n",
    "x_train.shape"
   ]
  },
  {
   "cell_type": "code",
   "execution_count": 20,
   "metadata": {},
   "outputs": [
    {
     "data": {
      "text/plain": [
       "(60000, 28, 28, 1)"
      ]
     },
     "execution_count": 20,
     "metadata": {},
     "output_type": "execute_result"
    }
   ],
   "source": [
    "x_train = x_train.reshape(x_train.shape[0], 28, 28,1)\n",
    "x_train.shape"
   ]
  },
  {
   "cell_type": "code",
   "execution_count": 23,
   "metadata": {},
   "outputs": [
    {
     "data": {
      "text/plain": [
       "array([[0., 0., 0., ..., 0., 0., 0.],\n",
       "       [1., 0., 0., ..., 0., 0., 0.],\n",
       "       [0., 0., 0., ..., 0., 0., 0.],\n",
       "       ...,\n",
       "       [0., 0., 0., ..., 0., 0., 0.],\n",
       "       [0., 0., 0., ..., 0., 0., 0.],\n",
       "       [0., 0., 0., ..., 0., 1., 0.]], dtype=float32)"
      ]
     },
     "execution_count": 23,
     "metadata": {},
     "output_type": "execute_result"
    }
   ],
   "source": [
    "y_train"
   ]
  },
  {
   "cell_type": "code",
   "execution_count": null,
   "metadata": {},
   "outputs": [],
   "source": []
  }
 ],
 "metadata": {
  "kernelspec": {
   "display_name": "Python 3",
   "language": "python",
   "name": "python3"
  },
  "language_info": {
   "codemirror_mode": {
    "name": "ipython",
    "version": 3
   },
   "file_extension": ".py",
   "mimetype": "text/x-python",
   "name": "python",
   "nbconvert_exporter": "python",
   "pygments_lexer": "ipython3",
   "version": "3.6.8"
  }
 },
 "nbformat": 4,
 "nbformat_minor": 2
}
