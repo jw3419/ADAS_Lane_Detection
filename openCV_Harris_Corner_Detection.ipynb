{
 "cells": [
  {
   "cell_type": "code",
   "execution_count": 1,
   "metadata": {},
   "outputs": [],
   "source": [
    "import cv2\n",
    "import numpy as np\n",
    "\n",
    "def Gaussian_Window(x,y) :                                                                \n",
    "    d = np.sqrt(x*x+y*y)                                                                   \n",
    "    sigma, mu = 15.0, 0.0\n",
    "    gaussian_window = np.exp(-( (d-mu)**2 / ( 2.0 * sigma**2 ) ) ) / (np.sqrt(2*np.pi)*sigma)\n",
    "    gaussian_window = gaussian_window / np.sum(gaussian_window)\n",
    "    \n",
    "    return gaussian_window\n",
    "\n",
    "def Harris_Corner_Detection(img) :                                ## Corner 검출 함수\n",
    "    img_gray = cv2.cvtColor(img, cv2.COLOR_BGR2GRAY)\n",
    "    \n",
    "    img_sobel_x = cv2.Sobel(img_gray, cv2.CV_32F, 1, 0)            ## 이미지를 1차 미분하기 위한 x방향의 sobel_filter\n",
    "    img_sobel_y = cv2.Sobel(img_gray, cv2.CV_32F, 0, 1)            ## 이미지를 1차 미분하기 위한 y방향의 sobel_filter\n",
    "\n",
    "    IxIx = img_sobel_x * img_sobel_x                               ## Harris Corner detection matrix의 value값 생성\n",
    "    IyIy = img_sobel_y * img_sobel_y\n",
    "    IxIy = img_sobel_x * img_sobel_y\n",
    "\n",
    "    a,b = np.meshgrid(np.linspace(-1,1,5), np.linspace(-1,1,5))\n",
    "    gaussian_window = Gaussian_Window(a,b)                          ## Gaussian window를 생성(위에 method call)\n",
    "\n",
    "    offset = int(gaussian_window.shape[0]/2)                        ## window size만큼 계산하기 위한 범위 설정\n",
    "\n",
    "    R = np.zeros(img_gray.shape)                                    ## 1차원 상의 eigen value값인 R을 초기화\n",
    "\n",
    "    for y in range(offset, height-offset):\n",
    "        for x in range(offset, width-offset):\n",
    "            ## 5x5 window와 미분한 이미지 matrix를 곱함\n",
    "            window_IxIx = np.dot(gaussian_window, IxIx[y-offset:y+offset+1, x-offset:x+offset+1])\n",
    "            window_IyIy = np.dot(gaussian_window, IyIy[y-offset:y+offset+1, x-offset:x+offset+1])\n",
    "            window_IxIy = np.dot(gaussian_window, IxIy[y-offset:y+offset+1, x-offset:x+offset+1])\n",
    "            \n",
    "            Mxx = window_IxIx.sum()                                 ## matrix 내 모든값 더함 (Sigma 수행)\n",
    "            Myy = window_IyIy.sum()\n",
    "            Mxy = window_IxIy.sum()\n",
    "\n",
    "            det = Mxx*Myy - Mxy*Mxy                                 ## R을 구하기 위해서 determinant와 trace 선언\n",
    "            trace = Mxx + Myy\n",
    "            \n",
    "            R[y,x] = det - 0.04 * (trace ** 2)                      ## 모든 pixel에 R값을 만듦\n",
    "    \n",
    "    \n",
    "    cv2.normalize(R, R, 0.0, 1.0, cv2.NORM_MINMAX)                   ## 모든 R 값을 0과 1사이로 nomalization\n",
    "    th = 0.3\n",
    "    for y in range(offset, height-offset):                          \n",
    "        for x in range(offset, width-offset):\n",
    "            if R[y, x] > th :                                        ## threshold가 0.3 이상인 값들만 Corner로 검출\n",
    "                img.itemset((y, x, 0), 0)                             \n",
    "                img.itemset((y, x, 1), 0)\n",
    "                img.itemset((y, x, 2), 255)                          ## Corner인 곳만 빨간색으로 출력되게 설정\n",
    "    \n",
    "    return img\n",
    "\n",
    "if __name__ == '__main__' :\n",
    "    img = cv2.imread('opencv/picture/palace.jpg', cv2.IMREAD_COLOR)\n",
    "    img = cv2.resize(img, (640,480))\n",
    "    \n",
    "    global height, width\n",
    "    height, width = img.shape[:2]\n",
    "    \n",
    "    result = Harris_Corner_Detection(img)\n",
    "    \n",
    "    cv2.imshow(\"Harris Corner Detector\", result)\n",
    "    cv2.waitKey(0)\n",
    "    cv2.destroyAllWindows()\n",
    "\n",
    "    ## R값을 잘 파악해서 threshold를 설정해야하는 문제가 있다."
   ]
  },
  {
   "cell_type": "code",
   "execution_count": 61,
   "metadata": {},
   "outputs": [],
   "source": [
    "import cv2\n",
    "import numpy as np\n",
    "\n",
    "img = cv2.imread('opencv/picture/palace.jpg')\n",
    "img = cv2.resize(img, (640,480))\n",
    "img_gray = cv2.cvtColor(img, cv2.COLOR_BGR2GRAY)\n",
    "img_gray = np.float32(img_gray)\n",
    "\n",
    "## cv2.cornerHarris(입력 이미지, 코너검출을 위한 이웃pixel 범위, sobel filter 인자값, R constant)\n",
    "dst = cv2.cornerHarris(img_gray, 5, 3, 0.24)\n",
    "\n",
    "dst = cv2.dilate(dst,None)\n",
    "\n",
    "\n",
    "img[dst>0.15*dst.max()]=[0,0,255]\n",
    "\n",
    "cv2.imshow('dst',img)\n",
    "cv2.waitKey(0)\n",
    "cv2.destroyAllWindows()"
   ]
  },
  {
   "cell_type": "code",
   "execution_count": 2,
   "metadata": {},
   "outputs": [
    {
     "name": "stdout",
     "output_type": "stream",
     "text": [
      "Once deleted, variables cannot be recovered. Proceed (y/[n])? y\n"
     ]
    }
   ],
   "source": [
    "%reset"
   ]
  },
  {
   "cell_type": "code",
   "execution_count": null,
   "metadata": {},
   "outputs": [],
   "source": []
  }
 ],
 "metadata": {
  "kernelspec": {
   "display_name": "Python 3",
   "language": "python",
   "name": "python3"
  },
  "language_info": {
   "codemirror_mode": {
    "name": "ipython",
    "version": 3
   },
   "file_extension": ".py",
   "mimetype": "text/x-python",
   "name": "python",
   "nbconvert_exporter": "python",
   "pygments_lexer": "ipython3",
   "version": "3.6.8"
  }
 },
 "nbformat": 4,
 "nbformat_minor": 2
}
